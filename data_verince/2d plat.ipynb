{
 "cells": [
  {
   "cell_type": "code",
   "execution_count": 1,
   "metadata": {},
   "outputs": [
    {
     "name": "stderr",
     "output_type": "stream",
     "text": [
      "Using TensorFlow backend.\n"
     ]
    }
   ],
   "source": [
    "import numpy as np\n",
    "import datetime\n",
    "import tensorflow as tf\n",
    "import pandas as pd\n",
    "import numpy as np\n",
    "import matplotlib.pyplot as plt\n",
    "import seaborn as sns\n",
    "import random \n",
    "import os\n",
    "from keras.preprocessing import image\n",
    "from keras.preprocessing.image import img_to_array\n",
    "from keras import backend as K\n",
    "import pickle\n",
    "import cv2\n",
    "import matplotlib.pyplot as plt"
   ]
  },
  {
   "cell_type": "code",
   "execution_count": 2,
   "metadata": {},
   "outputs": [],
   "source": [
    "default_image_size=tuple((32, 32))\n",
    "def convert_image_to_array(image_dir):\n",
    "    try:\n",
    "        image = cv2.imread(image_dir)\n",
    "        if image is not None :\n",
    "            image = cv2.resize(image, default_image_size)  \n",
    "            \n",
    "            return  img_to_array(image)\n",
    "        else :\n",
    "            return np.array([])\n",
    "    except Exception as e:\n",
    "        print(f\"Error : {e}\")\n",
    "        return None"
   ]
  },
  {
   "cell_type": "code",
   "execution_count": 5,
   "metadata": {},
   "outputs": [],
   "source": [
    "directory_root='PlantVillage'\n",
    "image_list=[]\n",
    "img_name=[]\n",
    "list_img_filename=[]\n",
    "list_2=[]"
   ]
  },
  {
   "cell_type": "code",
   "execution_count": 6,
   "metadata": {},
   "outputs": [],
   "source": [
    "for  dirname,dis,filenames in os.walk(directory_root):\n",
    "    #list_img_array.append(dirname)\n",
    "    for filename in filenames:\n",
    "     \n",
    "        if filename.endswith(\".jpg\") == True or filename.endswith(\".JPG\") == True:\n",
    "            image_list.append(convert_image_to_array(os.path.join(dirname,filename)))\n",
    "            img_name.append(dirname)\n",
    "            list_img_filename.append(filename)\n",
    "            list_2.append(dis)\n",
    "            "
   ]
  },
  {
   "cell_type": "code",
   "execution_count": 50,
   "metadata": {},
   "outputs": [],
   "source": [
    "from sklearn.preprocessing import LabelEncoder"
   ]
  },
  {
   "cell_type": "code",
   "execution_count": 52,
   "metadata": {},
   "outputs": [],
   "source": [
    "label_binarizer = LabelEncoder()\n",
    "labels = label_binarizer.fit_transform(img_name)\n",
    "pickle.dump(label_binarizer,open('label_trns.pkl','wb'))\n",
    "n_classes = len(label_binarizer.classes_)"
   ]
  },
  {
   "cell_type": "code",
   "execution_count": 53,
   "metadata": {},
   "outputs": [
    {
     "data": {
      "text/plain": [
       "array(['PlantVillage\\\\Pepper__bell___Bacterial_spot',\n",
       "       'PlantVillage\\\\Pepper__bell___healthy',\n",
       "       'PlantVillage\\\\Potato___Early_blight',\n",
       "       'PlantVillage\\\\Potato___Late_blight',\n",
       "       'PlantVillage\\\\Potato___healthy',\n",
       "       'PlantVillage\\\\Tomato_Bacterial_spot',\n",
       "       'PlantVillage\\\\Tomato_Early_blight',\n",
       "       'PlantVillage\\\\Tomato_Late_blight',\n",
       "       'PlantVillage\\\\Tomato_Leaf_Mold',\n",
       "       'PlantVillage\\\\Tomato_Septoria_leaf_spot',\n",
       "       'PlantVillage\\\\Tomato_Spider_mites_Two_spotted_spider_mite',\n",
       "       'PlantVillage\\\\Tomato__Tomato_YellowLeaf__Curl_Virus',\n",
       "       'PlantVillage\\\\Tomato_healthy'], dtype='<U56')"
      ]
     },
     "execution_count": 53,
     "metadata": {},
     "output_type": "execute_result"
    }
   ],
   "source": [
    "label_binarizer.classes_"
   ]
  },
  {
   "cell_type": "code",
   "execution_count": 54,
   "metadata": {},
   "outputs": [],
   "source": [
    "from sklearn.decomposition import PCA"
   ]
  },
  {
   "cell_type": "code",
   "execution_count": 55,
   "metadata": {},
   "outputs": [],
   "source": [
    "X=np.array(image_list)"
   ]
  },
  {
   "cell_type": "code",
   "execution_count": 56,
   "metadata": {},
   "outputs": [],
   "source": [
    "X=np.array(image_list)"
   ]
  },
  {
   "cell_type": "code",
   "execution_count": 57,
   "metadata": {},
   "outputs": [],
   "source": [
    "X=X/255"
   ]
  },
  {
   "cell_type": "code",
   "execution_count": 58,
   "metadata": {},
   "outputs": [
    {
     "data": {
      "text/plain": [
       "0.0"
      ]
     },
     "execution_count": 58,
     "metadata": {},
     "output_type": "execute_result"
    }
   ],
   "source": [
    "np.min(X)"
   ]
  },
  {
   "cell_type": "code",
   "execution_count": 59,
   "metadata": {},
   "outputs": [
    {
     "data": {
      "text/plain": [
       "1.0"
      ]
     },
     "execution_count": 59,
     "metadata": {},
     "output_type": "execute_result"
    }
   ],
   "source": [
    "np.max(X)"
   ]
  },
  {
   "cell_type": "code",
   "execution_count": 60,
   "metadata": {},
   "outputs": [
    {
     "data": {
      "text/plain": [
       "(18859, 32, 32, 3)"
      ]
     },
     "execution_count": 60,
     "metadata": {},
     "output_type": "execute_result"
    }
   ],
   "source": [
    "X.shape"
   ]
  },
  {
   "cell_type": "code",
   "execution_count": 61,
   "metadata": {},
   "outputs": [],
   "source": [
    "X_flat = X.reshape(-1,3072)"
   ]
  },
  {
   "cell_type": "code",
   "execution_count": 62,
   "metadata": {},
   "outputs": [],
   "source": [
    "feat_cols=['pixel'+str(i) for i in range(X.shape[1])]"
   ]
  },
  {
   "cell_type": "code",
   "execution_count": 63,
   "metadata": {},
   "outputs": [],
   "source": [
    "df_X=pd.DataFrame(X_flat)"
   ]
  },
  {
   "cell_type": "code",
   "execution_count": 64,
   "metadata": {},
   "outputs": [
    {
     "data": {
      "text/html": [
       "<div>\n",
       "<style scoped>\n",
       "    .dataframe tbody tr th:only-of-type {\n",
       "        vertical-align: middle;\n",
       "    }\n",
       "\n",
       "    .dataframe tbody tr th {\n",
       "        vertical-align: top;\n",
       "    }\n",
       "\n",
       "    .dataframe thead th {\n",
       "        text-align: right;\n",
       "    }\n",
       "</style>\n",
       "<table border=\"1\" class=\"dataframe\">\n",
       "  <thead>\n",
       "    <tr style=\"text-align: right;\">\n",
       "      <th></th>\n",
       "      <th>0</th>\n",
       "      <th>1</th>\n",
       "      <th>2</th>\n",
       "      <th>3</th>\n",
       "      <th>4</th>\n",
       "      <th>5</th>\n",
       "      <th>6</th>\n",
       "      <th>7</th>\n",
       "      <th>8</th>\n",
       "      <th>9</th>\n",
       "      <th>...</th>\n",
       "      <th>3062</th>\n",
       "      <th>3063</th>\n",
       "      <th>3064</th>\n",
       "      <th>3065</th>\n",
       "      <th>3066</th>\n",
       "      <th>3067</th>\n",
       "      <th>3068</th>\n",
       "      <th>3069</th>\n",
       "      <th>3070</th>\n",
       "      <th>3071</th>\n",
       "    </tr>\n",
       "  </thead>\n",
       "  <tbody>\n",
       "    <tr>\n",
       "      <th>0</th>\n",
       "      <td>0.501961</td>\n",
       "      <td>0.490196</td>\n",
       "      <td>0.549020</td>\n",
       "      <td>0.466667</td>\n",
       "      <td>0.454902</td>\n",
       "      <td>0.513726</td>\n",
       "      <td>0.478431</td>\n",
       "      <td>0.466667</td>\n",
       "      <td>0.525490</td>\n",
       "      <td>0.454902</td>\n",
       "      <td>...</td>\n",
       "      <td>0.635294</td>\n",
       "      <td>0.635294</td>\n",
       "      <td>0.603922</td>\n",
       "      <td>0.647059</td>\n",
       "      <td>0.615686</td>\n",
       "      <td>0.580392</td>\n",
       "      <td>0.631373</td>\n",
       "      <td>0.623529</td>\n",
       "      <td>0.588235</td>\n",
       "      <td>0.639216</td>\n",
       "    </tr>\n",
       "    <tr>\n",
       "      <th>1</th>\n",
       "      <td>0.600000</td>\n",
       "      <td>0.509804</td>\n",
       "      <td>0.564706</td>\n",
       "      <td>0.603922</td>\n",
       "      <td>0.513726</td>\n",
       "      <td>0.568627</td>\n",
       "      <td>0.560784</td>\n",
       "      <td>0.462745</td>\n",
       "      <td>0.517647</td>\n",
       "      <td>0.635294</td>\n",
       "      <td>...</td>\n",
       "      <td>0.533333</td>\n",
       "      <td>0.552941</td>\n",
       "      <td>0.478431</td>\n",
       "      <td>0.545098</td>\n",
       "      <td>0.592157</td>\n",
       "      <td>0.509804</td>\n",
       "      <td>0.568627</td>\n",
       "      <td>0.537255</td>\n",
       "      <td>0.454902</td>\n",
       "      <td>0.513726</td>\n",
       "    </tr>\n",
       "    <tr>\n",
       "      <th>2</th>\n",
       "      <td>0.113725</td>\n",
       "      <td>0.054902</td>\n",
       "      <td>0.094118</td>\n",
       "      <td>0.066667</td>\n",
       "      <td>0.058824</td>\n",
       "      <td>0.054902</td>\n",
       "      <td>0.058824</td>\n",
       "      <td>0.062745</td>\n",
       "      <td>0.086275</td>\n",
       "      <td>0.568627</td>\n",
       "      <td>...</td>\n",
       "      <td>0.768627</td>\n",
       "      <td>0.788235</td>\n",
       "      <td>0.721569</td>\n",
       "      <td>0.756863</td>\n",
       "      <td>0.784314</td>\n",
       "      <td>0.717647</td>\n",
       "      <td>0.752941</td>\n",
       "      <td>0.811765</td>\n",
       "      <td>0.745098</td>\n",
       "      <td>0.780392</td>\n",
       "    </tr>\n",
       "    <tr>\n",
       "      <th>3</th>\n",
       "      <td>0.031373</td>\n",
       "      <td>0.023529</td>\n",
       "      <td>0.019608</td>\n",
       "      <td>0.200000</td>\n",
       "      <td>0.141176</td>\n",
       "      <td>0.176471</td>\n",
       "      <td>0.490196</td>\n",
       "      <td>0.376471</td>\n",
       "      <td>0.447059</td>\n",
       "      <td>0.450980</td>\n",
       "      <td>...</td>\n",
       "      <td>0.780392</td>\n",
       "      <td>0.658824</td>\n",
       "      <td>0.568627</td>\n",
       "      <td>0.623529</td>\n",
       "      <td>0.650980</td>\n",
       "      <td>0.560784</td>\n",
       "      <td>0.615686</td>\n",
       "      <td>0.623529</td>\n",
       "      <td>0.533333</td>\n",
       "      <td>0.588235</td>\n",
       "    </tr>\n",
       "    <tr>\n",
       "      <th>4</th>\n",
       "      <td>0.615686</td>\n",
       "      <td>0.611765</td>\n",
       "      <td>0.650980</td>\n",
       "      <td>0.678431</td>\n",
       "      <td>0.674510</td>\n",
       "      <td>0.713726</td>\n",
       "      <td>0.647059</td>\n",
       "      <td>0.639216</td>\n",
       "      <td>0.686275</td>\n",
       "      <td>0.623529</td>\n",
       "      <td>...</td>\n",
       "      <td>0.513726</td>\n",
       "      <td>0.458824</td>\n",
       "      <td>0.447059</td>\n",
       "      <td>0.505882</td>\n",
       "      <td>0.513726</td>\n",
       "      <td>0.501961</td>\n",
       "      <td>0.560784</td>\n",
       "      <td>0.400000</td>\n",
       "      <td>0.388235</td>\n",
       "      <td>0.447059</td>\n",
       "    </tr>\n",
       "    <tr>\n",
       "      <th>...</th>\n",
       "      <td>...</td>\n",
       "      <td>...</td>\n",
       "      <td>...</td>\n",
       "      <td>...</td>\n",
       "      <td>...</td>\n",
       "      <td>...</td>\n",
       "      <td>...</td>\n",
       "      <td>...</td>\n",
       "      <td>...</td>\n",
       "      <td>...</td>\n",
       "      <td>...</td>\n",
       "      <td>...</td>\n",
       "      <td>...</td>\n",
       "      <td>...</td>\n",
       "      <td>...</td>\n",
       "      <td>...</td>\n",
       "      <td>...</td>\n",
       "      <td>...</td>\n",
       "      <td>...</td>\n",
       "      <td>...</td>\n",
       "      <td>...</td>\n",
       "    </tr>\n",
       "    <tr>\n",
       "      <th>18854</th>\n",
       "      <td>0.537255</td>\n",
       "      <td>0.505882</td>\n",
       "      <td>0.533333</td>\n",
       "      <td>0.447059</td>\n",
       "      <td>0.415686</td>\n",
       "      <td>0.443137</td>\n",
       "      <td>0.529412</td>\n",
       "      <td>0.498039</td>\n",
       "      <td>0.525490</td>\n",
       "      <td>0.541176</td>\n",
       "      <td>...</td>\n",
       "      <td>0.658824</td>\n",
       "      <td>0.619608</td>\n",
       "      <td>0.592157</td>\n",
       "      <td>0.619608</td>\n",
       "      <td>0.647059</td>\n",
       "      <td>0.619608</td>\n",
       "      <td>0.647059</td>\n",
       "      <td>0.607843</td>\n",
       "      <td>0.580392</td>\n",
       "      <td>0.607843</td>\n",
       "    </tr>\n",
       "    <tr>\n",
       "      <th>18855</th>\n",
       "      <td>0.478431</td>\n",
       "      <td>0.482353</td>\n",
       "      <td>0.474510</td>\n",
       "      <td>0.466667</td>\n",
       "      <td>0.470588</td>\n",
       "      <td>0.462745</td>\n",
       "      <td>0.466667</td>\n",
       "      <td>0.470588</td>\n",
       "      <td>0.462745</td>\n",
       "      <td>0.478431</td>\n",
       "      <td>...</td>\n",
       "      <td>0.596078</td>\n",
       "      <td>0.600000</td>\n",
       "      <td>0.607843</td>\n",
       "      <td>0.607843</td>\n",
       "      <td>0.549020</td>\n",
       "      <td>0.556863</td>\n",
       "      <td>0.556863</td>\n",
       "      <td>0.568627</td>\n",
       "      <td>0.576471</td>\n",
       "      <td>0.576471</td>\n",
       "    </tr>\n",
       "    <tr>\n",
       "      <th>18856</th>\n",
       "      <td>0.517647</td>\n",
       "      <td>0.501961</td>\n",
       "      <td>0.545098</td>\n",
       "      <td>0.529412</td>\n",
       "      <td>0.513726</td>\n",
       "      <td>0.556863</td>\n",
       "      <td>0.549020</td>\n",
       "      <td>0.533333</td>\n",
       "      <td>0.576471</td>\n",
       "      <td>0.552941</td>\n",
       "      <td>...</td>\n",
       "      <td>0.466667</td>\n",
       "      <td>0.364706</td>\n",
       "      <td>0.368627</td>\n",
       "      <td>0.423529</td>\n",
       "      <td>0.372549</td>\n",
       "      <td>0.376471</td>\n",
       "      <td>0.431373</td>\n",
       "      <td>0.396078</td>\n",
       "      <td>0.400000</td>\n",
       "      <td>0.454902</td>\n",
       "    </tr>\n",
       "    <tr>\n",
       "      <th>18857</th>\n",
       "      <td>0.525490</td>\n",
       "      <td>0.529412</td>\n",
       "      <td>0.521569</td>\n",
       "      <td>0.545098</td>\n",
       "      <td>0.549020</td>\n",
       "      <td>0.541176</td>\n",
       "      <td>0.537255</td>\n",
       "      <td>0.537255</td>\n",
       "      <td>0.537255</td>\n",
       "      <td>0.513726</td>\n",
       "      <td>...</td>\n",
       "      <td>0.423529</td>\n",
       "      <td>0.431373</td>\n",
       "      <td>0.423529</td>\n",
       "      <td>0.423529</td>\n",
       "      <td>0.400000</td>\n",
       "      <td>0.400000</td>\n",
       "      <td>0.400000</td>\n",
       "      <td>0.411765</td>\n",
       "      <td>0.411765</td>\n",
       "      <td>0.411765</td>\n",
       "    </tr>\n",
       "    <tr>\n",
       "      <th>18858</th>\n",
       "      <td>0.313726</td>\n",
       "      <td>0.305882</td>\n",
       "      <td>0.305882</td>\n",
       "      <td>0.333333</td>\n",
       "      <td>0.325490</td>\n",
       "      <td>0.325490</td>\n",
       "      <td>0.333333</td>\n",
       "      <td>0.333333</td>\n",
       "      <td>0.333333</td>\n",
       "      <td>0.376471</td>\n",
       "      <td>...</td>\n",
       "      <td>0.607843</td>\n",
       "      <td>0.623529</td>\n",
       "      <td>0.647059</td>\n",
       "      <td>0.627451</td>\n",
       "      <td>0.631373</td>\n",
       "      <td>0.654902</td>\n",
       "      <td>0.635294</td>\n",
       "      <td>0.611765</td>\n",
       "      <td>0.615686</td>\n",
       "      <td>0.600000</td>\n",
       "    </tr>\n",
       "  </tbody>\n",
       "</table>\n",
       "<p>18859 rows × 3072 columns</p>\n",
       "</div>"
      ],
      "text/plain": [
       "           0         1         2         3         4         5         6     \\\n",
       "0      0.501961  0.490196  0.549020  0.466667  0.454902  0.513726  0.478431   \n",
       "1      0.600000  0.509804  0.564706  0.603922  0.513726  0.568627  0.560784   \n",
       "2      0.113725  0.054902  0.094118  0.066667  0.058824  0.054902  0.058824   \n",
       "3      0.031373  0.023529  0.019608  0.200000  0.141176  0.176471  0.490196   \n",
       "4      0.615686  0.611765  0.650980  0.678431  0.674510  0.713726  0.647059   \n",
       "...         ...       ...       ...       ...       ...       ...       ...   \n",
       "18854  0.537255  0.505882  0.533333  0.447059  0.415686  0.443137  0.529412   \n",
       "18855  0.478431  0.482353  0.474510  0.466667  0.470588  0.462745  0.466667   \n",
       "18856  0.517647  0.501961  0.545098  0.529412  0.513726  0.556863  0.549020   \n",
       "18857  0.525490  0.529412  0.521569  0.545098  0.549020  0.541176  0.537255   \n",
       "18858  0.313726  0.305882  0.305882  0.333333  0.325490  0.325490  0.333333   \n",
       "\n",
       "           7         8         9     ...      3062      3063      3064  \\\n",
       "0      0.466667  0.525490  0.454902  ...  0.635294  0.635294  0.603922   \n",
       "1      0.462745  0.517647  0.635294  ...  0.533333  0.552941  0.478431   \n",
       "2      0.062745  0.086275  0.568627  ...  0.768627  0.788235  0.721569   \n",
       "3      0.376471  0.447059  0.450980  ...  0.780392  0.658824  0.568627   \n",
       "4      0.639216  0.686275  0.623529  ...  0.513726  0.458824  0.447059   \n",
       "...         ...       ...       ...  ...       ...       ...       ...   \n",
       "18854  0.498039  0.525490  0.541176  ...  0.658824  0.619608  0.592157   \n",
       "18855  0.470588  0.462745  0.478431  ...  0.596078  0.600000  0.607843   \n",
       "18856  0.533333  0.576471  0.552941  ...  0.466667  0.364706  0.368627   \n",
       "18857  0.537255  0.537255  0.513726  ...  0.423529  0.431373  0.423529   \n",
       "18858  0.333333  0.333333  0.376471  ...  0.607843  0.623529  0.647059   \n",
       "\n",
       "           3065      3066      3067      3068      3069      3070      3071  \n",
       "0      0.647059  0.615686  0.580392  0.631373  0.623529  0.588235  0.639216  \n",
       "1      0.545098  0.592157  0.509804  0.568627  0.537255  0.454902  0.513726  \n",
       "2      0.756863  0.784314  0.717647  0.752941  0.811765  0.745098  0.780392  \n",
       "3      0.623529  0.650980  0.560784  0.615686  0.623529  0.533333  0.588235  \n",
       "4      0.505882  0.513726  0.501961  0.560784  0.400000  0.388235  0.447059  \n",
       "...         ...       ...       ...       ...       ...       ...       ...  \n",
       "18854  0.619608  0.647059  0.619608  0.647059  0.607843  0.580392  0.607843  \n",
       "18855  0.607843  0.549020  0.556863  0.556863  0.568627  0.576471  0.576471  \n",
       "18856  0.423529  0.372549  0.376471  0.431373  0.396078  0.400000  0.454902  \n",
       "18857  0.423529  0.400000  0.400000  0.400000  0.411765  0.411765  0.411765  \n",
       "18858  0.627451  0.631373  0.654902  0.635294  0.611765  0.615686  0.600000  \n",
       "\n",
       "[18859 rows x 3072 columns]"
      ]
     },
     "execution_count": 64,
     "metadata": {},
     "output_type": "execute_result"
    }
   ],
   "source": [
    "df_X"
   ]
  },
  {
   "cell_type": "code",
   "execution_count": 65,
   "metadata": {},
   "outputs": [
    {
     "data": {
      "text/plain": [
       "18859"
      ]
     },
     "execution_count": 65,
     "metadata": {},
     "output_type": "execute_result"
    }
   ],
   "source": [
    "len(labels)"
   ]
  },
  {
   "cell_type": "code",
   "execution_count": 66,
   "metadata": {},
   "outputs": [],
   "source": [
    "pca_X=PCA(n_components=2)\n",
    "PCA_X=pca_X.fit_transform(df_X.iloc[:,:-1])"
   ]
  },
  {
   "cell_type": "code",
   "execution_count": 74,
   "metadata": {},
   "outputs": [],
   "source": [
    "p_x_df=pd.DataFrame(data=PCA_X,columns=['pc1','pc2'])"
   ]
  },
  {
   "cell_type": "code",
   "execution_count": 81,
   "metadata": {},
   "outputs": [],
   "source": [
    "p_x_df['z']=labels"
   ]
  },
  {
   "cell_type": "code",
   "execution_count": 82,
   "metadata": {},
   "outputs": [
    {
     "data": {
      "text/plain": [
       "<Figure size 2160x2160 with 0 Axes>"
      ]
     },
     "execution_count": 82,
     "metadata": {},
     "output_type": "execute_result"
    },
    {
     "data": {
      "text/plain": [
       "<Figure size 2160x2160 with 0 Axes>"
      ]
     },
     "metadata": {},
     "output_type": "display_data"
    }
   ],
   "source": [
    "plt.figure(figsize=(30,30))"
   ]
  },
  {
   "cell_type": "code",
   "execution_count": 89,
   "metadata": {},
   "outputs": [
    {
     "data": {
      "text/plain": [
       "<matplotlib.axes._subplots.AxesSubplot at 0x2491e1c9390>"
      ]
     },
     "execution_count": 89,
     "metadata": {},
     "output_type": "execute_result"
    },
    {
     "data": {
      "image/png": "[encoded data removed]",
      "text/plain": [
       "<Figure size 432x288 with 1 Axes>"
      ]
     },
     "metadata": {
      "needs_background": "light"
     },
     "output_type": "display_data"
    }
   ],
   "source": [
    "sns.scatterplot(\n",
    "x='pc1',y='pc2',\n",
    "hue=\"y\",\n",
    "palette=sns.color_palette(\"hls\",13),\n",
    "data=p_x_df,\n",
    "legend=\"full\",\n",
    "alpha=1\n",
    "    \n",
    "\n",
    "\n",
    ")"
   ]
  },
  {
   "cell_type": "code",
   "execution_count": null,
   "metadata": {},
   "outputs": [],
   "source": []
  }
 ],
 "metadata": {
  "kernelspec": {
   "display_name": "Python 3",
   "language": "python",
   "name": "python3"
  },
  "language_info": {
   "codemirror_mode": {
    "name": "ipython",
    "version": 3
   },
   "file_extension": ".py",
   "mimetype": "text/x-python",
   "name": "python",
   "nbconvert_exporter": "python",
   "pygments_lexer": "ipython3",
   "version": "3.7.0"
  }
 },
 "nbformat": 4,
 "nbformat_minor": 4
}
